{
  "nbformat": 4,
  "nbformat_minor": 0,
  "metadata": {
    "colab": {
      "name": "hcvrdeepnn24ocak21.ipynb",
      "provenance": [],
      "collapsed_sections": [],
      "authorship_tag": "ABX9TyPtL5b7CoTGeEwyAB9x4hsM",
      "include_colab_link": true
    },
    "kernelspec": {
      "name": "python3",
      "display_name": "Python 3"
    }
  },
  "cells": [
    {
      "cell_type": "markdown",
      "metadata": {
        "id": "view-in-github",
        "colab_type": "text"
      },
      "source": [
        "<a href=\"https://colab.research.google.com/github/mbgu/colabhcvdeepnn/blob/main/hcvrdeepnn24ocak21.ipynb\" target=\"_parent\"><img src=\"https://colab.research.google.com/assets/colab-badge.svg\" alt=\"Open In Colab\"/></a>"
      ]
    },
    {
      "cell_type": "code",
      "metadata": {
        "colab": {
          "base_uri": "https://localhost:8080/"
        },
        "id": "RRdCACKDY1SK",
        "outputId": "403062a4-9b39-4430-b8e5-6cd00f670067"
      },
      "source": [
        "from google.colab import drive\n",
        "drive.mount('/content/drive')"
      ],
      "execution_count": 2,
      "outputs": [
        {
          "output_type": "stream",
          "text": [
            "Mounted at /content/drive\n"
          ],
          "name": "stdout"
        }
      ]
    },
    {
      "cell_type": "code",
      "metadata": {
        "colab": {
          "base_uri": "https://localhost:8080/"
        },
        "id": "fWalGn_tZKXR",
        "outputId": "7e71f985-6344-456e-e8a6-1c667764af73"
      },
      "source": [
        "#Create first network with Keras\n",
        "import keras\n",
        "from keras.models import Sequential\n",
        "from keras.layers import Dense\n",
        "import numpy\n",
        "import pandas as pd\n",
        "import sklearn\n",
        "from sklearn.preprocessing import StandardScaler\n",
        "\n",
        "seed = 33\n",
        "numpy.random.seed(seed)\n",
        "\n",
        "dataset = numpy.loadtxt('/content/drive/My Drive/HCVegypt/hcvrustuyazisiz.csv', delimiter=\",\")\n",
        "\n",
        "data=pd.DataFrame(dataset) #data is panda but dataset is something else\n",
        "print(data.head())\n",
        "# split into input (X ie dependent variables) and output (Y ie independent variables) variables\n",
        "X = dataset[:,0:20]   #0-20 columns are dependent variables - remember 20th column is not included\n",
        "Y = dataset[:,20]     #20 column is independent variable\n",
        "\n",
        "scaler = StandardScaler()\n",
        "X = scaler.fit_transform(X)\n",
        "# create model\n",
        "model = Sequential()\n",
        "\n",
        "model.add(Dense(300, activation=\"relu\", kernel_initializer=\"uniform\"))\n",
        "model.add(Dense(30, activation=\"relu\", kernel_initializer=\"uniform\"))\n",
        "model.add(Dense(1, activation=\"sigmoid\", kernel_initializer=\"uniform\")) # 1 output neuron\n",
        "\n",
        "# Compile model\n",
        "model.compile(loss='binary_crossentropy', optimizer='adam', metrics=['accuracy'])\n",
        "\n",
        "# Fit the model\n",
        "model.fit(X, Y, validation_split=0.05, epochs=30, batch_size=1, verbose=1) # 150 epoch, 10 batch size, verbose = 2\n",
        "\n",
        "_, accuracy = model.evaluate(X, Y)\n",
        "print('Accuracy: %.2f' % (accuracy*100))\n",
        "\n",
        "\n",
        "# evaluate the model\n",
        "scores = model.evaluate(X, Y)\n",
        "print(\"%s: %.2f%%\" % (model.metrics_names[1], scores[1]*100))\n",
        "\n",
        "# calculate predictions\n",
        "predictions = model.predict(X)    # predicting Y only using X\n",
        "print(predictions)\n",
        "\n",
        "# Round predictions\n",
        "rounded = [int(numpy.round(x, 0)) for x in predictions]\n",
        "print(rounded)\n",
        "\n",
        "print(\"Rounded type: \", type(rounded)) # rounded is a 'list' class\n",
        "print(\"Shape of rounded: \", len(rounded))\n",
        "print(\"Dataset type: \", type(dataset)) # numpy array?\n",
        "print(\"Shape of dataset: \", dataset.shape)\n",
        "\n",
        "# Turn rounded from a 'list' class into a numpy array\n",
        "newRounded = numpy.array(rounded)\n",
        "print(\"Rounded type: \", type(newRounded))\n",
        "\n",
        "# Add the rounded numpy array (called newRounded) to the end of the dataset numpy array\n",
        "newDataset = numpy.column_stack((dataset, newRounded))\n",
        "\n",
        "qwerty=pd.DataFrame(newDataset)\n",
        "qwerty.to_excel('hcvrprediction.xlsx',sheet_name='sheet1',index=False)\n",
        "\n",
        "# Create a confusion matrix with the actual values and predicted probabilities\n",
        "df_confusion = pd.crosstab(Y, newRounded, rownames=['Actual'], colnames=['Predicted'], margins=True)\n",
        "df_conf_norm = df_confusion / df_confusion.sum(axis=1)\n",
        "print(df_confusion)\n",
        "print(df_conf_norm)\n",
        "\n",
        "yhat=newRounded\n",
        "import numpy as np\n",
        "from sklearn.metrics import confusion_matrix\n",
        "from sklearn.metrics import cohen_kappa_score\n",
        "cm=confusion_matrix(Y, yhat)\n",
        "print(cm)\n",
        "\n",
        "TP, FP, FN, TN = confusion_matrix(Y, yhat).ravel()\n",
        "\n",
        "sensitivity  = TP / (TP+FN)\n",
        "specificity  = TN / (TN+FP)\n",
        "pos_pred_val = TP/ (TP+FP)\n",
        "neg_pred_val = TN/ (TN+FN)\n",
        "Accuracy=(TP+TN)/(TP+FP+TN+FN)\n",
        "TPR= TP/(TP+FN)\n",
        "FPR= FP/(TN+FP)\n",
        "Precision= TP/(TP+FP)\n",
        "F_Measure=(2*TP)/(2*TP+FP+FN)\n",
        "Kappa = cohen_kappa_score(Y, yhat)\n",
        "\n",
        "\n",
        "# Performance=np.array([sensitivity, specificity, pos_pred_val, neg_pred_val, Accuracy, TPR, FPR, Precision, F_Measure, Kappa])\n",
        "# Labels=np.array([\"sensitivity\", \"specificity\", \"pos_pred_val\", \"neg_pred_val\", \"Accuracy\", \"TPR\", \"FPR\", \"Precision\", \"F_Measure\", \"Kappa\"])\n",
        "\n",
        "\n",
        "print('sensitivity=', sensitivity)\n",
        "print('specificity=', specificity)\n",
        "print('pos_pred_val=', pos_pred_val)\n",
        "print('neg_pred_val=', neg_pred_val)\n",
        "print('Accuracy=', Accuracy)\n",
        "print('TPR=',TPR)\n",
        "print('FPR=', FPR)\n",
        "print('Precision=', Precision)\n",
        "print('F Measure=', F_Measure)\n",
        "print('Kappa=', Kappa)\n"
      ],
      "execution_count": 14,
      "outputs": [
        {
          "output_type": "stream",
          "text": [
            "     0    1     2    3    4   ...         16        17        18    19   20\n",
            "0  59.0  1.0  32.0  1.0  1.0  ...   660410.0  338946.0  242861.0  11.0  0.0\n",
            "1  36.0  1.0  22.0  2.0  2.0  ...   137712.0   63145.0  806204.0  16.0  0.0\n",
            "2  45.0  2.0  25.0  2.0  1.0  ...   936444.0       5.0       5.0   8.0  0.0\n",
            "3  58.0  1.0  34.0  2.0  1.0  ...   614951.0  671490.0  135145.0  15.0  0.0\n",
            "4  33.0  1.0  25.0  2.0  1.0  ...  1135200.0       5.0       5.0   4.0  0.0\n",
            "\n",
            "[5 rows x 21 columns]\n",
            "Epoch 1/30\n",
            "1315/1315 [==============================] - 2s 1ms/step - loss: 0.5663 - accuracy: 0.7883 - val_loss: 1.2840 - val_accuracy: 0.0000e+00\n",
            "Epoch 2/30\n",
            "1315/1315 [==============================] - 2s 1ms/step - loss: 0.5220 - accuracy: 0.7813 - val_loss: 1.3157 - val_accuracy: 0.0000e+00\n",
            "Epoch 3/30\n",
            "1315/1315 [==============================] - 2s 1ms/step - loss: 0.5375 - accuracy: 0.7596 - val_loss: 1.5712 - val_accuracy: 0.0000e+00\n",
            "Epoch 4/30\n",
            "1315/1315 [==============================] - 2s 1ms/step - loss: 0.4827 - accuracy: 0.7896 - val_loss: 1.7175 - val_accuracy: 0.0000e+00\n",
            "Epoch 5/30\n",
            "1315/1315 [==============================] - 2s 1ms/step - loss: 0.5217 - accuracy: 0.7565 - val_loss: 1.4641 - val_accuracy: 0.0000e+00\n",
            "Epoch 6/30\n",
            "1315/1315 [==============================] - 2s 1ms/step - loss: 0.4656 - accuracy: 0.7802 - val_loss: 1.8299 - val_accuracy: 0.0000e+00\n",
            "Epoch 7/30\n",
            "1315/1315 [==============================] - 2s 1ms/step - loss: 0.4579 - accuracy: 0.7859 - val_loss: 1.7808 - val_accuracy: 0.0143\n",
            "Epoch 8/30\n",
            "1315/1315 [==============================] - 2s 1ms/step - loss: 0.4653 - accuracy: 0.7739 - val_loss: 1.6305 - val_accuracy: 0.0286\n",
            "Epoch 9/30\n",
            "1315/1315 [==============================] - 2s 1ms/step - loss: 0.4290 - accuracy: 0.7891 - val_loss: 1.5864 - val_accuracy: 0.0857\n",
            "Epoch 10/30\n",
            "1315/1315 [==============================] - 2s 1ms/step - loss: 0.3933 - accuracy: 0.8082 - val_loss: 1.8671 - val_accuracy: 0.1000\n",
            "Epoch 11/30\n",
            "1315/1315 [==============================] - 2s 1ms/step - loss: 0.4132 - accuracy: 0.8183 - val_loss: 1.8939 - val_accuracy: 0.1857\n",
            "Epoch 12/30\n",
            "1315/1315 [==============================] - 2s 1ms/step - loss: 0.3706 - accuracy: 0.8389 - val_loss: 2.2365 - val_accuracy: 0.1857\n",
            "Epoch 13/30\n",
            "1315/1315 [==============================] - 2s 1ms/step - loss: 0.3288 - accuracy: 0.8538 - val_loss: 2.3748 - val_accuracy: 0.1857\n",
            "Epoch 14/30\n",
            "1315/1315 [==============================] - 2s 1ms/step - loss: 0.3124 - accuracy: 0.8565 - val_loss: 2.0476 - val_accuracy: 0.2714\n",
            "Epoch 15/30\n",
            "1315/1315 [==============================] - 2s 1ms/step - loss: 0.2586 - accuracy: 0.8837 - val_loss: 2.4339 - val_accuracy: 0.2143\n",
            "Epoch 16/30\n",
            "1315/1315 [==============================] - 2s 1ms/step - loss: 0.2432 - accuracy: 0.8942 - val_loss: 2.9719 - val_accuracy: 0.2000\n",
            "Epoch 17/30\n",
            "1315/1315 [==============================] - 2s 1ms/step - loss: 0.2232 - accuracy: 0.9035 - val_loss: 2.6154 - val_accuracy: 0.2571\n",
            "Epoch 18/30\n",
            "1315/1315 [==============================] - 2s 1ms/step - loss: 0.1844 - accuracy: 0.9240 - val_loss: 3.5183 - val_accuracy: 0.2143\n",
            "Epoch 19/30\n",
            "1315/1315 [==============================] - 2s 2ms/step - loss: 0.1694 - accuracy: 0.9295 - val_loss: 3.1114 - val_accuracy: 0.2714\n",
            "Epoch 20/30\n",
            "1315/1315 [==============================] - 2s 1ms/step - loss: 0.1566 - accuracy: 0.9348 - val_loss: 4.2454 - val_accuracy: 0.2143\n",
            "Epoch 21/30\n",
            "1315/1315 [==============================] - 2s 2ms/step - loss: 0.1417 - accuracy: 0.9462 - val_loss: 3.2326 - val_accuracy: 0.2571\n",
            "Epoch 22/30\n",
            "1315/1315 [==============================] - 2s 1ms/step - loss: 0.1670 - accuracy: 0.9325 - val_loss: 4.4889 - val_accuracy: 0.2714\n",
            "Epoch 23/30\n",
            "1315/1315 [==============================] - 2s 1ms/step - loss: 0.1128 - accuracy: 0.9555 - val_loss: 3.9892 - val_accuracy: 0.3286\n",
            "Epoch 24/30\n",
            "1315/1315 [==============================] - 2s 1ms/step - loss: 0.1227 - accuracy: 0.9600 - val_loss: 5.6657 - val_accuracy: 0.2429\n",
            "Epoch 25/30\n",
            "1315/1315 [==============================] - 2s 1ms/step - loss: 0.0922 - accuracy: 0.9729 - val_loss: 5.5653 - val_accuracy: 0.1571\n",
            "Epoch 26/30\n",
            "1315/1315 [==============================] - 2s 1ms/step - loss: 0.0979 - accuracy: 0.9700 - val_loss: 6.7367 - val_accuracy: 0.2000\n",
            "Epoch 27/30\n",
            "1315/1315 [==============================] - 2s 1ms/step - loss: 0.1122 - accuracy: 0.9638 - val_loss: 5.6164 - val_accuracy: 0.2714\n",
            "Epoch 28/30\n",
            "1315/1315 [==============================] - 2s 1ms/step - loss: 0.0707 - accuracy: 0.9832 - val_loss: 6.7493 - val_accuracy: 0.2714\n",
            "Epoch 29/30\n",
            "1315/1315 [==============================] - 2s 1ms/step - loss: 0.0723 - accuracy: 0.9687 - val_loss: 6.7020 - val_accuracy: 0.2429\n",
            "Epoch 30/30\n",
            "1315/1315 [==============================] - 2s 1ms/step - loss: 0.0747 - accuracy: 0.9825 - val_loss: 6.4467 - val_accuracy: 0.2714\n",
            "44/44 [==============================] - 0s 1ms/step - loss: 0.3738 - accuracy: 0.9538\n",
            "Accuracy: 95.38\n",
            "44/44 [==============================] - 0s 1ms/step - loss: 0.3738 - accuracy: 0.9538\n",
            "accuracy: 95.38%\n",
            "[[4.1706160e-05]\n",
            " [9.5816458e-06]\n",
            " [7.4842572e-04]\n",
            " ...\n",
            " [4.2379200e-03]\n",
            " [3.0021942e-01]\n",
            " [3.2258645e-01]]\n",
            "[0, 0, 0, 0, 0, 0, 0, 0, 0, 0, 0, 0, 0, 0, 0, 0, 0, 0, 0, 1, 0, 0, 0, 0, 0, 0, 0, 0, 0, 0, 0, 0, 0, 0, 0, 0, 0, 0, 0, 0, 0, 0, 0, 0, 0, 0, 0, 0, 0, 0, 0, 0, 1, 0, 0, 0, 0, 0, 0, 0, 0, 0, 0, 0, 0, 0, 0, 0, 0, 0, 0, 0, 0, 0, 0, 0, 0, 0, 0, 0, 0, 0, 0, 0, 0, 0, 0, 0, 0, 0, 0, 0, 0, 0, 0, 0, 0, 0, 0, 0, 0, 0, 0, 0, 0, 0, 0, 1, 0, 0, 0, 0, 0, 0, 0, 0, 0, 0, 0, 0, 0, 0, 0, 0, 0, 0, 0, 0, 0, 0, 0, 0, 0, 0, 0, 0, 0, 0, 0, 0, 0, 0, 0, 0, 0, 0, 0, 0, 0, 0, 0, 0, 0, 0, 0, 0, 0, 0, 0, 0, 0, 0, 0, 0, 0, 0, 0, 0, 0, 0, 0, 0, 0, 0, 0, 0, 0, 0, 0, 0, 0, 0, 0, 0, 0, 0, 0, 0, 0, 0, 0, 0, 0, 0, 0, 0, 0, 0, 0, 0, 0, 0, 0, 0, 0, 0, 0, 0, 0, 0, 0, 0, 0, 0, 0, 0, 0, 0, 0, 0, 0, 0, 0, 0, 0, 0, 0, 0, 0, 0, 0, 0, 0, 0, 0, 0, 0, 0, 0, 0, 0, 0, 0, 0, 0, 0, 0, 0, 0, 0, 0, 0, 0, 0, 0, 0, 0, 0, 0, 0, 0, 0, 0, 0, 0, 0, 0, 0, 0, 0, 0, 0, 0, 0, 0, 0, 0, 0, 0, 0, 0, 0, 0, 0, 0, 0, 0, 0, 0, 0, 0, 0, 0, 0, 0, 0, 0, 0, 0, 0, 0, 0, 0, 0, 0, 0, 0, 0, 0, 0, 0, 0, 0, 0, 0, 0, 0, 0, 0, 0, 0, 0, 0, 0, 0, 0, 0, 0, 0, 0, 0, 0, 0, 0, 0, 0, 0, 0, 0, 0, 0, 0, 0, 0, 0, 0, 0, 0, 0, 0, 0, 0, 0, 0, 0, 0, 0, 0, 0, 1, 0, 0, 0, 0, 0, 0, 0, 0, 0, 0, 0, 0, 0, 0, 0, 0, 0, 0, 0, 0, 0, 0, 0, 0, 0, 0, 0, 0, 0, 0, 0, 0, 0, 0, 0, 0, 0, 0, 0, 1, 0, 0, 0, 0, 0, 0, 0, 0, 0, 0, 0, 0, 0, 0, 0, 0, 0, 0, 0, 0, 0, 0, 0, 0, 0, 0, 0, 0, 0, 0, 0, 0, 0, 0, 0, 0, 0, 0, 0, 0, 0, 0, 0, 0, 0, 0, 0, 0, 0, 0, 0, 0, 0, 0, 0, 0, 0, 0, 0, 0, 0, 0, 0, 0, 0, 0, 1, 0, 0, 0, 0, 0, 0, 0, 0, 0, 0, 0, 0, 0, 0, 0, 0, 0, 0, 0, 0, 0, 0, 0, 0, 0, 0, 0, 0, 0, 0, 0, 0, 0, 0, 0, 0, 0, 0, 0, 0, 0, 0, 0, 0, 0, 0, 0, 0, 0, 0, 0, 0, 0, 0, 0, 0, 0, 0, 0, 0, 0, 0, 0, 0, 0, 0, 0, 0, 0, 0, 0, 0, 0, 0, 0, 0, 0, 0, 0, 0, 0, 0, 0, 0, 0, 1, 0, 0, 0, 0, 0, 0, 0, 0, 0, 0, 0, 0, 0, 0, 0, 0, 0, 0, 0, 0, 0, 0, 0, 0, 0, 0, 0, 0, 0, 0, 0, 0, 0, 0, 0, 0, 0, 0, 0, 0, 0, 0, 0, 0, 0, 0, 0, 0, 0, 0, 0, 0, 0, 0, 0, 0, 0, 0, 0, 0, 0, 0, 0, 0, 0, 0, 0, 0, 0, 0, 0, 0, 0, 0, 0, 0, 0, 0, 0, 0, 0, 0, 0, 0, 0, 0, 0, 0, 0, 0, 0, 0, 0, 0, 0, 0, 0, 0, 0, 0, 0, 0, 0, 0, 0, 0, 0, 0, 0, 0, 0, 0, 0, 0, 0, 0, 0, 1, 0, 0, 0, 1, 0, 0, 0, 0, 0, 0, 0, 0, 0, 0, 0, 0, 0, 0, 0, 0, 0, 0, 0, 0, 0, 0, 0, 0, 0, 0, 0, 0, 0, 0, 0, 0, 0, 0, 0, 0, 0, 0, 0, 0, 0, 0, 0, 0, 0, 0, 0, 0, 0, 0, 0, 0, 0, 0, 0, 0, 0, 0, 0, 0, 0, 0, 0, 0, 0, 0, 0, 0, 0, 0, 0, 0, 0, 0, 0, 0, 0, 0, 0, 0, 1, 0, 0, 0, 0, 0, 0, 0, 0, 0, 0, 0, 0, 0, 0, 0, 0, 0, 0, 0, 0, 0, 0, 0, 0, 0, 0, 0, 0, 0, 0, 0, 0, 0, 0, 0, 0, 0, 0, 0, 0, 0, 0, 0, 0, 0, 0, 0, 0, 0, 0, 0, 0, 0, 0, 0, 0, 0, 0, 0, 0, 0, 0, 0, 0, 0, 0, 0, 0, 0, 0, 0, 0, 0, 0, 0, 0, 0, 0, 0, 0, 0, 0, 0, 0, 0, 0, 0, 0, 0, 0, 0, 0, 0, 0, 0, 0, 0, 0, 0, 0, 0, 0, 0, 0, 0, 0, 0, 0, 0, 0, 0, 0, 0, 0, 0, 0, 0, 0, 0, 0, 0, 0, 0, 0, 0, 0, 0, 0, 0, 0, 0, 0, 0, 0, 0, 0, 0, 0, 0, 0, 0, 0, 0, 0, 0, 0, 0, 0, 0, 0, 0, 0, 0, 0, 0, 0, 0, 0, 0, 0, 0, 0, 0, 0, 0, 0, 0, 0, 0, 0, 0, 0, 0, 0, 0, 0, 0, 0, 0, 0, 0, 0, 0, 0, 0, 0, 0, 0, 0, 0, 0, 0, 1, 0, 0, 0, 0, 0, 0, 0, 0, 0, 0, 0, 0, 0, 0, 0, 0, 0, 0, 0, 0, 0, 0, 0, 0, 0, 0, 0, 1, 0, 0, 0, 0, 0, 0, 0, 0, 0, 0, 0, 0, 0, 0, 0, 0, 0, 0, 0, 0, 0, 0, 0, 0, 0, 0, 0, 0, 0, 0, 0, 0, 0, 0, 0, 0, 0, 0, 0, 0, 0, 0, 0, 0, 0, 0, 1, 1, 1, 1, 1, 1, 1, 1, 1, 1, 1, 1, 1, 1, 1, 1, 1, 1, 1, 1, 1, 1, 1, 1, 1, 1, 1, 1, 1, 1, 1, 1, 1, 1, 1, 1, 1, 1, 1, 1, 1, 1, 1, 1, 1, 1, 1, 1, 1, 1, 1, 1, 1, 1, 1, 1, 1, 1, 1, 1, 1, 1, 1, 1, 1, 1, 1, 1, 1, 1, 0, 1, 1, 1, 1, 1, 1, 1, 1, 1, 1, 1, 1, 1, 1, 1, 1, 1, 1, 1, 1, 1, 1, 1, 1, 1, 1, 1, 1, 1, 1, 1, 1, 1, 1, 1, 1, 1, 1, 1, 1, 1, 1, 1, 1, 1, 1, 1, 1, 1, 1, 1, 1, 1, 1, 1, 1, 1, 1, 1, 1, 1, 1, 1, 1, 1, 1, 1, 1, 1, 1, 1, 1, 1, 1, 1, 1, 1, 1, 1, 1, 1, 1, 1, 1, 1, 1, 1, 1, 1, 1, 1, 1, 1, 1, 1, 1, 1, 1, 1, 1, 1, 1, 1, 1, 1, 1, 1, 1, 1, 1, 1, 1, 1, 1, 1, 1, 1, 1, 1, 1, 1, 1, 1, 1, 1, 1, 1, 1, 1, 1, 1, 1, 1, 1, 1, 1, 1, 1, 1, 1, 1, 1, 1, 1, 1, 1, 1, 1, 1, 1, 1, 1, 1, 1, 1, 1, 1, 1, 1, 1, 1, 1, 1, 1, 1, 1, 1, 1, 1, 1, 1, 1, 1, 1, 1, 1, 1, 1, 1, 1, 1, 1, 1, 1, 1, 1, 1, 1, 1, 1, 1, 1, 1, 1, 1, 1, 1, 1, 1, 1, 1, 1, 1, 1, 1, 1, 1, 1, 1, 1, 1, 1, 1, 1, 1, 1, 1, 1, 1, 1, 1, 1, 1, 0, 1, 0, 1, 1, 1, 1, 1, 0, 0, 0, 0, 0, 0, 1, 0, 0, 0, 0, 0, 0, 0, 1, 1, 1, 1, 0, 0, 0, 0, 0, 0, 0, 1, 0, 0, 0, 0, 0, 1, 0, 0, 0, 1, 0, 1, 0, 0, 0, 0, 0, 0, 1, 0, 0, 0, 0, 1, 0, 0, 0, 0, 0, 0, 0, 0, 0, 0]\n",
            "Rounded type:  <class 'list'>\n",
            "Shape of rounded:  1385\n",
            "Dataset type:  <class 'numpy.ndarray'>\n",
            "Shape of dataset:  (1385, 21)\n",
            "Rounded type:  <class 'numpy.ndarray'>\n",
            "Predicted     0    1   All\n",
            "Actual                    \n",
            "0.0        1011   12  1023\n",
            "1.0          52  310   362\n",
            "All        1063  322  1385\n",
            "Predicted         0         1       All\n",
            "Actual                                 \n",
            "0.0        0.494135  0.016575  0.369314\n",
            "1.0        0.025415  0.428177  0.130686\n",
            "All        0.519550  0.444751  0.500000\n",
            "[[1011   12]\n",
            " [  52  310]]\n",
            "sensitivity= 0.9510818438381938\n",
            "specificity= 0.9627329192546584\n",
            "pos_pred_val= 0.9882697947214076\n",
            "neg_pred_val= 0.856353591160221\n",
            "Accuracy= 0.9537906137184116\n",
            "TPR= 0.9510818438381938\n",
            "FPR= 0.037267080745341616\n",
            "Precision= 0.9882697947214076\n",
            "F Measure= 0.9693192713326941\n",
            "Kappa= 0.8758911919710114\n"
          ],
          "name": "stdout"
        }
      ]
    },
    {
      "cell_type": "code",
      "metadata": {
        "colab": {
          "base_uri": "https://localhost:8080/"
        },
        "id": "GnCJYgRQZ5lJ",
        "outputId": "2399e0a9-0cbe-481b-f7b2-726a3dccd568"
      },
      "source": [
        "#Computing metrics\n",
        "\n",
        "yhat=newRounded\n",
        "import numpy as np\n",
        "from sklearn.metrics import confusion_matrix\n",
        "from sklearn.metrics import cohen_kappa_score\n",
        "cm=confusion_matrix(Y, yhat)\n",
        "print(cm)\n",
        "\n",
        "TP, FP, FN, TN = confusion_matrix(Y, yhat).ravel()\n",
        "\n",
        "sensitivity  = TP / (TP+FN)\n",
        "specificity  = TN / (TN+FP)\n",
        "pos_pred_val = TP/ (TP+FP)\n",
        "neg_pred_val = TN/ (TN+FN)\n",
        "Accuracy=(TP+TN)/(TP+FP+TN+FN)\n",
        "TPR= TP/(TP+FN)\n",
        "FPR= FP/(TN+FP)\n",
        "Precision= TP/(TP+FP)\n",
        "F_Measure=(2*TP)/(2*TP+FP+FN)\n",
        "Kappa = cohen_kappa_score(Y, yhat)\n",
        "\n",
        "\n",
        "# Performance=np.array([sensitivity, specificity, pos_pred_val, neg_pred_val, Accuracy, TPR, FPR, Precision, F_Measure, Kappa])\n",
        "# Labels=np.array([\"sensitivity\", \"specificity\", \"pos_pred_val\", \"neg_pred_val\", \"Accuracy\", \"TPR\", \"FPR\", \"Precision\", \"F_Measure\", \"Kappa\"])\n",
        "\n",
        "\n",
        "print('sensitivity=', sensitivity)\n",
        "print('specificity=', specificity)\n",
        "print('pos_pred_val=', pos_pred_val)\n",
        "print('neg_pred_val=', neg_pred_val)\n",
        "print('Accuracy=', Accuracy)\n",
        "print('TPR=',TPR)\n",
        "print('FPR=', FPR)\n",
        "print('Precision=', Precision)\n",
        "print('F Measure=', F_Measure)\n",
        "print('Kappa=', Kappa)\n",
        "\n",
        "\n"
      ],
      "execution_count": 15,
      "outputs": [
        {
          "output_type": "stream",
          "text": [
            "[[1011   12]\n",
            " [  52  310]]\n",
            "sensitivity= 0.9510818438381938\n",
            "specificity= 0.9627329192546584\n",
            "pos_pred_val= 0.9882697947214076\n",
            "neg_pred_val= 0.856353591160221\n",
            "Accuracy= 0.9537906137184116\n",
            "TPR= 0.9510818438381938\n",
            "FPR= 0.037267080745341616\n",
            "Precision= 0.9882697947214076\n",
            "F Measure= 0.9693192713326941\n",
            "Kappa= 0.8758911919710114\n"
          ],
          "name": "stdout"
        }
      ]
    },
    {
      "cell_type": "code",
      "metadata": {
        "colab": {
          "base_uri": "https://localhost:8080/",
          "height": 295
        },
        "id": "yu32pvvIaCFa",
        "outputId": "4ec49a49-a153-44be-910b-dca9670f09d6"
      },
      "source": [
        "##Computing first ROC curve\n",
        "\n",
        "from sklearn.metrics import roc_curve\n",
        "from sklearn import metrics\n",
        "fpr, tpr, thresholds =roc_curve(Y,yhat,drop_intermediate=False)\n",
        "import matplotlib.pyplot as plt\n",
        "plt.figure()\n",
        "##Adding the ROC\n",
        "plt.plot(fpr, tpr, color='red',lw=2, label='(Accuracy = %0.2f)'%Accuracy)\n",
        "##Random FPR and TPR\n",
        "plt.plot([0, 1], [0, 1], color='blue', lw=2, linestyle='--')\n",
        "##Title and label\n",
        "plt.xlabel('FPR')\n",
        "plt.ylabel('TPR')\n",
        "plt.title('ROC curve')\n",
        "plt.legend(loc=\"lower right\")\n",
        "plt.show()\n"
      ],
      "execution_count": 16,
      "outputs": [
        {
          "output_type": "display_data",
          "data": {
            "image/png": "[encoded data removed]",
            "text/plain": [
              "<Figure size 432x288 with 1 Axes>"
            ]
          },
          "metadata": {
            "tags": [],
            "needs_background": "light"
          }
        }
      ]
    },
    {
      "cell_type": "code",
      "metadata": {
        "colab": {
          "base_uri": "https://localhost:8080/",
          "height": 367
        },
        "id": "FVOUiOJhaJBC",
        "outputId": "ac086955-030a-4cc1-fe07-e2a85962f5be"
      },
      "source": [
        "##Computing second ROC curve\n",
        "from sklearn.metrics import roc_curve\n",
        "from sklearn import metrics\n",
        "FPR, TPR, thresholds = roc_curve(Y, yhat)\n",
        "import matplotlib.pyplot as plt\n",
        "\n",
        "plt.figure(figsize=(10,5))  # figsize in inches\n",
        "plt.plot(FPR, TPR)\n",
        "plt.xlim([0.0, 1.0])\n",
        "plt.ylim([0.0, 1.0])\n",
        "plt.plot([0, 1], [0, 1], color='blue', lw=2, linestyle='--')  # 50%  \n",
        "plt.plot(FPR, TPR, lw=2, label='(AUC = %0.2f)' % Accuracy)\n",
        "plt.title('ROC curve')\n",
        "plt.xlabel('False Positive Rate')\n",
        "plt.ylabel('True Positive Rate')\n",
        "plt.grid(True)\n",
        "plt.legend(loc=\"lower right\")"
      ],
      "execution_count": 19,
      "outputs": [
        {
          "output_type": "execute_result",
          "data": {
            "text/plain": [
              "<matplotlib.legend.Legend at 0x7f3d452a5a90>"
            ]
          },
          "metadata": {
            "tags": []
          },
          "execution_count": 19
        },
        {
          "output_type": "display_data",
          "data": {
            "image/png": "[encoded data removed]",
            "text/plain": [
              "<Figure size 720x360 with 1 Axes>"
            ]
          },
          "metadata": {
            "tags": [],
            "needs_background": "light"
          }
        }
      ]
    }
  ]
}